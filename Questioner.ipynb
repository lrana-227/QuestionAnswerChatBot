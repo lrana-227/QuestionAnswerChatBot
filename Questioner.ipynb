{
 "cells": [
  {
   "cell_type": "code",
   "execution_count": 1,
   "metadata": {},
   "outputs": [
    {
     "name": "stdout",
     "output_type": "stream",
     "text": [
      "{'score': 0.6905856132507324, 'start': 22, 'end': 31, 'answer': 'over 1000'}\n"
     ]
    }
   ],
   "source": [
    "import boto3\n",
    "import json\n",
    "\n",
    "endpoint_url =\"https://runtime.sagemaker.us-east-2.amazonaws.com/endpoints/huggingface-pytorch-inference-2024-12-08-08-38-05-703/invocations\"\n",
    "\n",
    "runtime_client = boto3.client(\"sagemaker-runtime\")\n",
    "\n",
    "# Input data\n",
    "data = {\n",
    "    \"inputs\": {\n",
    "        \"question\": \"How many products does this store have? \",\n",
    "        \"context\": \"This retail store has over 1000 products.\"\n",
    "    }\n",
    "}\n",
    "\n",
    "# Prediction request\n",
    "response = runtime_client.invoke_endpoint(\n",
    "    EndpointName = \"huggingface-pytorch-inference-2024-12-08-08-38-05-703\",\n",
    "    ContentType=\"application/json\",\n",
    "    Body=json.dumps(data)\n",
    ")\n",
    "\n",
    "result = json.loads(response[\"Body\"].read().decode())\n",
    "print(result)\n"
   ]
  },
  {
   "cell_type": "code",
   "execution_count": null,
   "metadata": {},
   "outputs": [],
   "source": []
  }
 ],
 "metadata": {
  "kernelspec": {
   "display_name": "Python 3",
   "language": "python",
   "name": "python3"
  },
  "language_info": {
   "codemirror_mode": {
    "name": "ipython",
    "version": 3
   },
   "file_extension": ".py",
   "mimetype": "text/x-python",
   "name": "python",
   "nbconvert_exporter": "python",
   "pygments_lexer": "ipython3",
   "version": "3.8.5"
  }
 },
 "nbformat": 4,
 "nbformat_minor": 5
}
